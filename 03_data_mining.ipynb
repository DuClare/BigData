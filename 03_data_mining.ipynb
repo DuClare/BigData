{
 "cells": [
  {
   "cell_type": "code",
   "execution_count": 2,
   "metadata": {},
   "outputs": [],
   "source": [
    "import pandas as pd"
   ]
  },
  {
   "cell_type": "code",
   "execution_count": 80,
   "metadata": {},
   "outputs": [
    {
     "name": "stdout",
     "output_type": "stream",
     "text": [
      "Requirement already satisfied: pyarrow in c:\\users\\adrie\\onedrive\\bureau\\bigdata\\fish_env\\lib\\site-packages (18.1.0)\n",
      "Requirement already satisfied: fastparquet in c:\\users\\adrie\\onedrive\\bureau\\bigdata\\fish_env\\lib\\site-packages (2024.11.0)\n",
      "Requirement already satisfied: pandas>=1.5.0 in c:\\users\\adrie\\onedrive\\bureau\\bigdata\\fish_env\\lib\\site-packages (from fastparquet) (2.2.3)\n",
      "Requirement already satisfied: numpy in c:\\users\\adrie\\onedrive\\bureau\\bigdata\\fish_env\\lib\\site-packages (from fastparquet) (2.1.3)\n",
      "Requirement already satisfied: cramjam>=2.3 in c:\\users\\adrie\\onedrive\\bureau\\bigdata\\fish_env\\lib\\site-packages (from fastparquet) (2.9.0)\n",
      "Requirement already satisfied: fsspec in c:\\users\\adrie\\onedrive\\bureau\\bigdata\\fish_env\\lib\\site-packages (from fastparquet) (2024.10.0)\n",
      "Requirement already satisfied: packaging in c:\\users\\adrie\\onedrive\\bureau\\bigdata\\fish_env\\lib\\site-packages (from fastparquet) (24.2)\n",
      "Requirement already satisfied: python-dateutil>=2.8.2 in c:\\users\\adrie\\onedrive\\bureau\\bigdata\\fish_env\\lib\\site-packages (from pandas>=1.5.0->fastparquet) (2.9.0.post0)\n",
      "Requirement already satisfied: pytz>=2020.1 in c:\\users\\adrie\\onedrive\\bureau\\bigdata\\fish_env\\lib\\site-packages (from pandas>=1.5.0->fastparquet) (2024.2)\n",
      "Requirement already satisfied: tzdata>=2022.7 in c:\\users\\adrie\\onedrive\\bureau\\bigdata\\fish_env\\lib\\site-packages (from pandas>=1.5.0->fastparquet) (2024.2)\n",
      "Requirement already satisfied: six>=1.5 in c:\\users\\adrie\\onedrive\\bureau\\bigdata\\fish_env\\lib\\site-packages (from python-dateutil>=2.8.2->pandas>=1.5.0->fastparquet) (1.17.0)\n"
     ]
    },
    {
     "name": "stderr",
     "output_type": "stream",
     "text": [
      "\n",
      "[notice] A new release of pip is available: 23.2.1 -> 24.3.1\n",
      "[notice] To update, run: python.exe -m pip install --upgrade pip\n"
     ]
    }
   ],
   "source": [
    "!pip install pyarrow fastparquet"
   ]
  },
  {
   "cell_type": "code",
   "execution_count": 3,
   "metadata": {},
   "outputs": [],
   "source": [
    "parquet_file = \"data/eco2mix.parquet\"\n",
    "df = pd.read_parquet(parquet_file)\n",
    "\n",
    "csv_file = \"data/eco2mix.csv\"\n",
    "df.to_csv(csv_file, index=False)"
   ]
  }
 ],
 "metadata": {
  "kernelspec": {
   "display_name": "fish_env",
   "language": "python",
   "name": "python3"
  },
  "language_info": {
   "codemirror_mode": {
    "name": "ipython",
    "version": 3
   },
   "file_extension": ".py",
   "mimetype": "text/x-python",
   "name": "python",
   "nbconvert_exporter": "python",
   "pygments_lexer": "ipython3",
   "version": "3.12.1"
  }
 },
 "nbformat": 4,
 "nbformat_minor": 2
}
