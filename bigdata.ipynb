{
 "cells": [
  {
   "cell_type": "code",
   "execution_count": null,
   "metadata": {},
   "outputs": [],
   "source": [
    "import pandas as pd"
   ]
  },
  {
   "cell_type": "code",
   "execution_count": 1,
   "metadata": {},
   "outputs": [
    {
     "name": "stdout",
     "output_type": "stream",
     "text": [
      "Collecting pyarrow\n",
      "  Obtaining dependency information for pyarrow from https://files.pythonhosted.org/packages/76/52/f8da04195000099d394012b8d42c503d7041b79f778d854f410e5f05049a/pyarrow-18.1.0-cp312-cp312-win_amd64.whl.metadata\n",
      "  Downloading pyarrow-18.1.0-cp312-cp312-win_amd64.whl.metadata (3.4 kB)\n",
      "Collecting fastparquet\n",
      "  Downloading fastparquet-2024.11.0.tar.gz (467 kB)\n",
      "     ---------------------------------------- 0.0/467.2 kB ? eta -:--:--\n",
      "      --------------------------------------- 10.2/467.2 kB ? eta -:--:--\n",
      "     ----- --------------------------------- 61.4/467.2 kB 1.1 MB/s eta 0:00:01\n",
      "     --------- ---------------------------- 122.9/467.2 kB 1.2 MB/s eta 0:00:01\n",
      "     ----------------------- -------------- 286.7/467.2 kB 2.0 MB/s eta 0:00:01\n",
      "     -------------------------------------  460.8/467.2 kB 2.4 MB/s eta 0:00:01\n",
      "     -------------------------------------- 467.2/467.2 kB 2.3 MB/s eta 0:00:00\n",
      "  Installing build dependencies: started\n",
      "  Installing build dependencies: still running...\n",
      "  Installing build dependencies: finished with status 'done'\n",
      "  Getting requirements to build wheel: started\n",
      "  Getting requirements to build wheel: finished with status 'done'\n",
      "  Preparing metadata (pyproject.toml): started\n",
      "  Preparing metadata (pyproject.toml): finished with status 'done'\n",
      "Requirement already satisfied: pandas>=1.5.0 in c:\\users\\adrie\\onedrive\\bureau\\bigdata\\fish_env\\lib\\site-packages (from fastparquet) (2.2.3)\n",
      "Requirement already satisfied: numpy in c:\\users\\adrie\\onedrive\\bureau\\bigdata\\fish_env\\lib\\site-packages (from fastparquet) (2.1.3)\n",
      "Collecting cramjam>=2.3 (from fastparquet)\n",
      "  Obtaining dependency information for cramjam>=2.3 from https://files.pythonhosted.org/packages/13/d0/90cb5ac6118423075f3630953336a8ee69eae9a1865436cb62d1de29628f/cramjam-2.9.0-cp312-none-win_amd64.whl.metadata\n",
      "  Downloading cramjam-2.9.0-cp312-none-win_amd64.whl.metadata (5.0 kB)\n",
      "Collecting fsspec (from fastparquet)\n",
      "  Obtaining dependency information for fsspec from https://files.pythonhosted.org/packages/c6/b2/454d6e7f0158951d8a78c2e1eb4f69ae81beb8dca5fee9809c6c99e9d0d0/fsspec-2024.10.0-py3-none-any.whl.metadata\n",
      "  Downloading fsspec-2024.10.0-py3-none-any.whl.metadata (11 kB)\n",
      "Requirement already satisfied: packaging in c:\\users\\adrie\\onedrive\\bureau\\bigdata\\fish_env\\lib\\site-packages (from fastparquet) (24.2)\n",
      "Requirement already satisfied: python-dateutil>=2.8.2 in c:\\users\\adrie\\onedrive\\bureau\\bigdata\\fish_env\\lib\\site-packages (from pandas>=1.5.0->fastparquet) (2.9.0.post0)\n",
      "Requirement already satisfied: pytz>=2020.1 in c:\\users\\adrie\\onedrive\\bureau\\bigdata\\fish_env\\lib\\site-packages (from pandas>=1.5.0->fastparquet) (2024.2)\n",
      "Requirement already satisfied: tzdata>=2022.7 in c:\\users\\adrie\\onedrive\\bureau\\bigdata\\fish_env\\lib\\site-packages (from pandas>=1.5.0->fastparquet) (2024.2)\n",
      "Requirement already satisfied: six>=1.5 in c:\\users\\adrie\\onedrive\\bureau\\bigdata\\fish_env\\lib\\site-packages (from python-dateutil>=2.8.2->pandas>=1.5.0->fastparquet) (1.17.0)\n",
      "Downloading pyarrow-18.1.0-cp312-cp312-win_amd64.whl (25.1 MB)\n",
      "   ---------------------------------------- 0.0/25.1 MB ? eta -:--:--\n",
      "    --------------------------------------- 0.3/25.1 MB 10.2 MB/s eta 0:00:03\n",
      "   - -------------------------------------- 0.8/25.1 MB 10.4 MB/s eta 0:00:03\n",
      "   -- ------------------------------------- 1.5/25.1 MB 11.7 MB/s eta 0:00:03\n",
      "   --- ------------------------------------ 2.3/25.1 MB 13.3 MB/s eta 0:00:02\n",
      "   ---- ----------------------------------- 2.9/25.1 MB 13.3 MB/s eta 0:00:02\n",
      "   ------ --------------------------------- 4.0/25.1 MB 15.1 MB/s eta 0:00:02\n",
      "   ------- -------------------------------- 4.8/25.1 MB 15.2 MB/s eta 0:00:02\n",
      "   -------- ------------------------------- 5.6/25.1 MB 15.6 MB/s eta 0:00:02\n",
      "   ---------- ----------------------------- 6.4/25.1 MB 15.7 MB/s eta 0:00:02\n",
      "   ----------- ---------------------------- 7.3/25.1 MB 16.0 MB/s eta 0:00:02\n",
      "   ------------ --------------------------- 8.0/25.1 MB 16.1 MB/s eta 0:00:02\n",
      "   -------------- ------------------------- 8.8/25.1 MB 16.2 MB/s eta 0:00:02\n",
      "   --------------- ------------------------ 9.6/25.1 MB 16.2 MB/s eta 0:00:01\n",
      "   ---------------- ----------------------- 10.4/25.1 MB 16.0 MB/s eta 0:00:01\n",
      "   ----------------- ---------------------- 11.2/25.1 MB 17.2 MB/s eta 0:00:01\n",
      "   ------------------ --------------------- 11.7/25.1 MB 17.2 MB/s eta 0:00:01\n",
      "   ------------------- -------------------- 12.4/25.1 MB 16.8 MB/s eta 0:00:01\n",
      "   -------------------- ------------------- 13.1/25.1 MB 16.8 MB/s eta 0:00:01\n",
      "   --------------------- ------------------ 13.7/25.1 MB 16.0 MB/s eta 0:00:01\n",
      "   ---------------------- ----------------- 14.4/25.1 MB 16.0 MB/s eta 0:00:01\n",
      "   ------------------------ --------------- 15.2/25.1 MB 16.0 MB/s eta 0:00:01\n",
      "   ------------------------- -------------- 16.0/25.1 MB 16.0 MB/s eta 0:00:01\n",
      "   -------------------------- ------------- 16.7/25.1 MB 16.0 MB/s eta 0:00:01\n",
      "   --------------------------- ------------ 17.4/25.1 MB 15.6 MB/s eta 0:00:01\n",
      "   ---------------------------- ----------- 18.1/25.1 MB 15.6 MB/s eta 0:00:01\n",
      "   ------------------------------ --------- 18.9/25.1 MB 15.6 MB/s eta 0:00:01\n",
      "   ------------------------------- -------- 19.7/25.1 MB 15.2 MB/s eta 0:00:01\n",
      "   -------------------------------- ------- 20.4/25.1 MB 15.2 MB/s eta 0:00:01\n",
      "   --------------------------------- ------ 21.3/25.1 MB 15.2 MB/s eta 0:00:01\n",
      "   ----------------------------------- ---- 22.1/25.1 MB 16.0 MB/s eta 0:00:01\n",
      "   ------------------------------------ --- 22.8/25.1 MB 16.4 MB/s eta 0:00:01\n",
      "   ------------------------------------- -- 23.7/25.1 MB 16.8 MB/s eta 0:00:01\n",
      "   ---------------------------------------  24.6/25.1 MB 17.2 MB/s eta 0:00:01\n",
      "   ---------------------------------------  25.1/25.1 MB 17.2 MB/s eta 0:00:01\n",
      "   ---------------------------------------  25.1/25.1 MB 17.2 MB/s eta 0:00:01\n",
      "   ---------------------------------------  25.1/25.1 MB 17.2 MB/s eta 0:00:01\n",
      "   ---------------------------------------- 25.1/25.1 MB 14.2 MB/s eta 0:00:00\n",
      "Downloading cramjam-2.9.0-cp312-none-win_amd64.whl (2.2 MB)\n",
      "   ---------------------------------------- 0.0/2.2 MB ? eta -:--:--\n",
      "   ------------------- -------------------- 1.0/2.2 MB 33.4 MB/s eta 0:00:01\n",
      "   ------------------- -------------------- 1.0/2.2 MB 33.4 MB/s eta 0:00:01\n",
      "   ------------------- -------------------- 1.0/2.2 MB 33.4 MB/s eta 0:00:01\n",
      "   ------------------- -------------------- 1.0/2.2 MB 33.4 MB/s eta 0:00:01\n",
      "   ------------------- -------------------- 1.0/2.2 MB 33.4 MB/s eta 0:00:01\n",
      "   ------------------- -------------------- 1.0/2.2 MB 33.4 MB/s eta 0:00:01\n",
      "   ------------------------------ --------- 1.6/2.2 MB 4.9 MB/s eta 0:00:01\n",
      "   -------------------------------------- - 2.1/2.2 MB 6.0 MB/s eta 0:00:01\n",
      "   -------------------------------------- - 2.1/2.2 MB 6.0 MB/s eta 0:00:01\n",
      "   -------------------------------------- - 2.1/2.2 MB 6.0 MB/s eta 0:00:01\n",
      "   -------------------------------------- - 2.1/2.2 MB 6.0 MB/s eta 0:00:01\n",
      "   -------------------------------------- - 2.1/2.2 MB 6.0 MB/s eta 0:00:01\n",
      "   -------------------------------------- - 2.1/2.2 MB 6.0 MB/s eta 0:00:01\n",
      "   ---------------------------------------- 2.2/2.2 MB 3.4 MB/s eta 0:00:00\n",
      "Using cached fsspec-2024.10.0-py3-none-any.whl (179 kB)\n",
      "Building wheels for collected packages: fastparquet\n",
      "  Building wheel for fastparquet (pyproject.toml): started\n",
      "  Building wheel for fastparquet (pyproject.toml): finished with status 'done'\n",
      "  Created wheel for fastparquet: filename=fastparquet-2024.11.0-cp312-cp312-win_amd64.whl size=672718 sha256=1ce045e68ffbe3ecfbca272dac8a0c0c65d156bfa93f5edf459572807fbf0da5\n",
      "  Stored in directory: c:\\users\\adrie\\appdata\\local\\pip\\cache\\wheels\\10\\6d\\17\\0e26bf80f5639ab5e79745c7985af4e869cc8b99adc606fa40\n",
      "Successfully built fastparquet\n",
      "Installing collected packages: pyarrow, fsspec, cramjam, fastparquet\n",
      "Successfully installed cramjam-2.9.0 fastparquet-2024.11.0 fsspec-2024.10.0 pyarrow-18.1.0\n"
     ]
    },
    {
     "name": "stderr",
     "output_type": "stream",
     "text": [
      "\n",
      "[notice] A new release of pip is available: 23.2.1 -> 24.3.1\n",
      "[notice] To update, run: python.exe -m pip install --upgrade pip\n"
     ]
    }
   ],
   "source": [
    "!pip install pyarrow fastparquet"
   ]
  }
 ],
 "metadata": {
  "kernelspec": {
   "display_name": "fish_env",
   "language": "python",
   "name": "python3"
  },
  "language_info": {
   "codemirror_mode": {
    "name": "ipython",
    "version": 3
   },
   "file_extension": ".py",
   "mimetype": "text/x-python",
   "name": "python",
   "nbconvert_exporter": "python",
   "pygments_lexer": "ipython3",
   "version": "3.12.1"
  }
 },
 "nbformat": 4,
 "nbformat_minor": 2
}
