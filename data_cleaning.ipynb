{
 "cells": [
  {
   "cell_type": "code",
   "execution_count": 1,
   "metadata": {},
   "outputs": [
    {
     "name": "stderr",
     "output_type": "stream",
     "text": [
      "C:\\Users\\adrie\\AppData\\Local\\Temp\\ipykernel_11268\\2692881844.py:1: DeprecationWarning: \n",
      "Pyarrow will become a required dependency of pandas in the next major release of pandas (pandas 3.0),\n",
      "(to allow more performant data types, such as the Arrow string type, and better interoperability with other libraries)\n",
      "but was not found to be installed on your system.\n",
      "If this would cause problems for you,\n",
      "please provide us feedback at https://github.com/pandas-dev/pandas/issues/54466\n",
      "        \n",
      "  import pandas as pd\n"
     ]
    }
   ],
   "source": [
    "import pandas as pd\n",
    "from scipy.stats import zscore"
   ]
  },
  {
   "cell_type": "code",
   "execution_count": 2,
   "metadata": {},
   "outputs": [],
   "source": [
    "file_path = 'Marine_Fish_Data.csv'\n",
    "fish_data = pd.read_csv(file_path)"
   ]
  },
  {
   "cell_type": "code",
   "execution_count": 3,
   "metadata": {},
   "outputs": [
    {
     "data": {
      "text/html": [
       "<div>\n",
       "<style scoped>\n",
       "    .dataframe tbody tr th:only-of-type {\n",
       "        vertical-align: middle;\n",
       "    }\n",
       "\n",
       "    .dataframe tbody tr th {\n",
       "        vertical-align: top;\n",
       "    }\n",
       "\n",
       "    .dataframe thead th {\n",
       "        text-align: right;\n",
       "    }\n",
       "</style>\n",
       "<table border=\"1\" class=\"dataframe\">\n",
       "  <thead>\n",
       "    <tr style=\"text-align: right;\">\n",
       "      <th></th>\n",
       "      <th>Species_Name</th>\n",
       "      <th>Region</th>\n",
       "      <th>Breeding_Season</th>\n",
       "      <th>Fishing_Method</th>\n",
       "      <th>Fish_Population</th>\n",
       "      <th>Average_Size(cm)</th>\n",
       "      <th>Overfishing_Risk</th>\n",
       "      <th>Water_Temperature(C)</th>\n",
       "      <th>Water_Pollution_Level</th>\n",
       "    </tr>\n",
       "  </thead>\n",
       "  <tbody>\n",
       "    <tr>\n",
       "      <th>0</th>\n",
       "      <td>Salmon</td>\n",
       "      <td>North Atlantic</td>\n",
       "      <td>Summer</td>\n",
       "      <td>Net</td>\n",
       "      <td>8270</td>\n",
       "      <td>71.92</td>\n",
       "      <td>No</td>\n",
       "      <td>24.68</td>\n",
       "      <td>High</td>\n",
       "    </tr>\n",
       "    <tr>\n",
       "      <th>1</th>\n",
       "      <td>Tuna</td>\n",
       "      <td>Pacific Ocean</td>\n",
       "      <td>Monsoon</td>\n",
       "      <td>Line</td>\n",
       "      <td>1860</td>\n",
       "      <td>85.33</td>\n",
       "      <td>No</td>\n",
       "      <td>21.33</td>\n",
       "      <td>High</td>\n",
       "    </tr>\n",
       "    <tr>\n",
       "      <th>2</th>\n",
       "      <td>Cod</td>\n",
       "      <td>Mediterranean Sea</td>\n",
       "      <td>Summer</td>\n",
       "      <td>Line</td>\n",
       "      <td>6390</td>\n",
       "      <td>88.02</td>\n",
       "      <td>No</td>\n",
       "      <td>16.98</td>\n",
       "      <td>Medium</td>\n",
       "    </tr>\n",
       "    <tr>\n",
       "      <th>3</th>\n",
       "      <td>Herring</td>\n",
       "      <td>Pacific Ocean</td>\n",
       "      <td>Monsoon</td>\n",
       "      <td>Trawl</td>\n",
       "      <td>6191</td>\n",
       "      <td>85.46</td>\n",
       "      <td>Yes</td>\n",
       "      <td>28.51</td>\n",
       "      <td>Low</td>\n",
       "    </tr>\n",
       "    <tr>\n",
       "      <th>4</th>\n",
       "      <td>Herring</td>\n",
       "      <td>Indian Ocean</td>\n",
       "      <td>Monsoon</td>\n",
       "      <td>Trawl</td>\n",
       "      <td>6734</td>\n",
       "      <td>48.35</td>\n",
       "      <td>Yes</td>\n",
       "      <td>25.37</td>\n",
       "      <td>Low</td>\n",
       "    </tr>\n",
       "  </tbody>\n",
       "</table>\n",
       "</div>"
      ],
      "text/plain": [
       "  Species_Name             Region Breeding_Season Fishing_Method  \\\n",
       "0       Salmon     North Atlantic          Summer            Net   \n",
       "1         Tuna      Pacific Ocean         Monsoon           Line   \n",
       "2          Cod  Mediterranean Sea          Summer           Line   \n",
       "3      Herring      Pacific Ocean         Monsoon          Trawl   \n",
       "4      Herring       Indian Ocean         Monsoon          Trawl   \n",
       "\n",
       "   Fish_Population  Average_Size(cm) Overfishing_Risk  Water_Temperature(C)  \\\n",
       "0             8270             71.92               No                 24.68   \n",
       "1             1860             85.33               No                 21.33   \n",
       "2             6390             88.02               No                 16.98   \n",
       "3             6191             85.46              Yes                 28.51   \n",
       "4             6734             48.35              Yes                 25.37   \n",
       "\n",
       "  Water_Pollution_Level  \n",
       "0                  High  \n",
       "1                  High  \n",
       "2                Medium  \n",
       "3                   Low  \n",
       "4                   Low  "
      ]
     },
     "execution_count": 3,
     "metadata": {},
     "output_type": "execute_result"
    }
   ],
   "source": [
    "fish_data.head()"
   ]
  },
  {
   "cell_type": "code",
   "execution_count": 5,
   "metadata": {},
   "outputs": [
    {
     "data": {
      "text/plain": [
       "Species_Name             0\n",
       "Region                   0\n",
       "Breeding_Season          0\n",
       "Fishing_Method           0\n",
       "Fish_Population          0\n",
       "Average_Size(cm)         0\n",
       "Overfishing_Risk         0\n",
       "Water_Temperature(C)     0\n",
       "Water_Pollution_Level    0\n",
       "dtype: int64"
      ]
     },
     "execution_count": 5,
     "metadata": {},
     "output_type": "execute_result"
    }
   ],
   "source": [
    "missing_values = fish_data.isnull().sum()\n",
    "missing_values"
   ]
  },
  {
   "cell_type": "code",
   "execution_count": 8,
   "metadata": {},
   "outputs": [
    {
     "data": {
      "text/plain": [
       "0"
      ]
     },
     "execution_count": 8,
     "metadata": {},
     "output_type": "execute_result"
    }
   ],
   "source": [
    "duplicates = fish_data.duplicated().sum()\n",
    "duplicates"
   ]
  },
  {
   "cell_type": "code",
   "execution_count": 15,
   "metadata": {},
   "outputs": [
    {
     "data": {
      "text/html": [
       "<div>\n",
       "<style scoped>\n",
       "    .dataframe tbody tr th:only-of-type {\n",
       "        vertical-align: middle;\n",
       "    }\n",
       "\n",
       "    .dataframe tbody tr th {\n",
       "        vertical-align: top;\n",
       "    }\n",
       "\n",
       "    .dataframe thead th {\n",
       "        text-align: right;\n",
       "    }\n",
       "</style>\n",
       "<table border=\"1\" class=\"dataframe\">\n",
       "  <thead>\n",
       "    <tr style=\"text-align: right;\">\n",
       "      <th></th>\n",
       "      <th>Species_Name</th>\n",
       "      <th>Region</th>\n",
       "      <th>Breeding_Season</th>\n",
       "      <th>Fishing_Method</th>\n",
       "      <th>Fish_Population</th>\n",
       "      <th>Average_Size(cm)</th>\n",
       "      <th>Overfishing_Risk</th>\n",
       "      <th>Water_Temperature(C)</th>\n",
       "      <th>Water_Pollution_Level</th>\n",
       "    </tr>\n",
       "  </thead>\n",
       "  <tbody>\n",
       "    <tr>\n",
       "      <th>0</th>\n",
       "      <td>Salmon</td>\n",
       "      <td>North Atlantic</td>\n",
       "      <td>Summer</td>\n",
       "      <td>Net</td>\n",
       "      <td>8270</td>\n",
       "      <td>71.92</td>\n",
       "      <td>No</td>\n",
       "      <td>24.68</td>\n",
       "      <td>High</td>\n",
       "    </tr>\n",
       "    <tr>\n",
       "      <th>1</th>\n",
       "      <td>Tuna</td>\n",
       "      <td>Pacific Ocean</td>\n",
       "      <td>Monsoon</td>\n",
       "      <td>Line</td>\n",
       "      <td>1860</td>\n",
       "      <td>85.33</td>\n",
       "      <td>No</td>\n",
       "      <td>21.33</td>\n",
       "      <td>High</td>\n",
       "    </tr>\n",
       "    <tr>\n",
       "      <th>2</th>\n",
       "      <td>Cod</td>\n",
       "      <td>Mediterranean Sea</td>\n",
       "      <td>Summer</td>\n",
       "      <td>Line</td>\n",
       "      <td>6390</td>\n",
       "      <td>88.02</td>\n",
       "      <td>No</td>\n",
       "      <td>16.98</td>\n",
       "      <td>Medium</td>\n",
       "    </tr>\n",
       "    <tr>\n",
       "      <th>3</th>\n",
       "      <td>Herring</td>\n",
       "      <td>Pacific Ocean</td>\n",
       "      <td>Monsoon</td>\n",
       "      <td>Trawl</td>\n",
       "      <td>6191</td>\n",
       "      <td>85.46</td>\n",
       "      <td>Yes</td>\n",
       "      <td>28.51</td>\n",
       "      <td>Low</td>\n",
       "    </tr>\n",
       "    <tr>\n",
       "      <th>4</th>\n",
       "      <td>Herring</td>\n",
       "      <td>Indian Ocean</td>\n",
       "      <td>Monsoon</td>\n",
       "      <td>Trawl</td>\n",
       "      <td>6734</td>\n",
       "      <td>48.35</td>\n",
       "      <td>Yes</td>\n",
       "      <td>25.37</td>\n",
       "      <td>Low</td>\n",
       "    </tr>\n",
       "  </tbody>\n",
       "</table>\n",
       "</div>"
      ],
      "text/plain": [
       "  Species_Name             Region Breeding_Season Fishing_Method  \\\n",
       "0       Salmon     North Atlantic          Summer            Net   \n",
       "1         Tuna      Pacific Ocean         Monsoon           Line   \n",
       "2          Cod  Mediterranean Sea          Summer           Line   \n",
       "3      Herring      Pacific Ocean         Monsoon          Trawl   \n",
       "4      Herring       Indian Ocean         Monsoon          Trawl   \n",
       "\n",
       "   Fish_Population  Average_Size(cm) Overfishing_Risk  Water_Temperature(C)  \\\n",
       "0             8270             71.92               No                 24.68   \n",
       "1             1860             85.33               No                 21.33   \n",
       "2             6390             88.02               No                 16.98   \n",
       "3             6191             85.46              Yes                 28.51   \n",
       "4             6734             48.35              Yes                 25.37   \n",
       "\n",
       "  Water_Pollution_Level  \n",
       "0                  High  \n",
       "1                  High  \n",
       "2                Medium  \n",
       "3                   Low  \n",
       "4                   Low  "
      ]
     },
     "execution_count": 15,
     "metadata": {},
     "output_type": "execute_result"
    }
   ],
   "source": [
    "for column in ['Fish_Population', 'Average_Size(cm)', 'Water_Temperature(C)']:\n",
    "    Q1 = fish_data[column].quantile(0.25)\n",
    "    Q3 = fish_data[column].quantile(0.75)\n",
    "    IQR = Q3 - Q1\n",
    "\n",
    "    lower_bound = Q1 - 1.5 * IQR\n",
    "    upper_bound = Q3 + 1.5 * IQR\n",
    "\n",
    "    fish_data = fish_data[(fish_data[column] >= lower_bound) & (fish_data[column] <= upper_bound)]\n",
    "\n",
    "fish_data.head()\n"
   ]
  },
  {
   "cell_type": "code",
   "execution_count": 21,
   "metadata": {},
   "outputs": [],
   "source": [
    "cleaned_file_path = 'Cleaned_Marine_Fish_Data.csv'\n",
    "fish_data.to_csv(cleaned_file_path, index=False)"
   ]
  }
 ],
 "metadata": {
  "kernelspec": {
   "display_name": "Python 3",
   "language": "python",
   "name": "python3"
  },
  "language_info": {
   "codemirror_mode": {
    "name": "ipython",
    "version": 3
   },
   "file_extension": ".py",
   "mimetype": "text/x-python",
   "name": "python",
   "nbconvert_exporter": "python",
   "pygments_lexer": "ipython3",
   "version": "3.12.1"
  }
 },
 "nbformat": 4,
 "nbformat_minor": 2
}
